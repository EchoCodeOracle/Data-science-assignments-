# -*- coding: utf-8 -*-
"""
Created on Tue Nov 28 18:10:55 2023

@author: ARK00
"""
import pandas as pd
import numpy as np
import matplotlib.pyplot as plt
import seaborn as sns
from sklearn.preprocessing import StandardScaler
from sklearn.cluster import AgglomerativeClustering, KMeans, DBSCAN
from scipy.cluster.hierarchy import dendrogram, linkage

# Load the dataset
airlines_data = pd.read_excel('EastWestAirlines.xlsx')

# Drop non-numeric columns for clustering
data_for_clustering = airlines_data.drop(['ID#', 'Award?'], axis=1)

# Standardize the data
scaler = StandardScaler()
scaled_data = scaler.fit_transform(data_for_clustering)

# Hierarchical Clustering
plt.figure(figsize=(12, 6))
dendrogram(linkage(scaled_data, method='ward'))
plt.title('Hierarchical Clustering Dendrogram')
plt.show()

# Based on dendrogram, set the optimal number of clusters
num_clusters_hierarchical = 3
hierarchical_cluster = AgglomerativeClustering(n_clusters=num_clusters_hierarchical, affinity='euclidean', linkage='ward')
airlines_data['Cluster_Hierarchical'] = hierarchical_cluster.fit_predict(scaled_data)

# K-means Clustering
num_clusters_kmeans = 4  # You can change this based on analysis
kmeans_cluster = KMeans(n_clusters=num_clusters_kmeans, random_state=42)
airlines_data['Cluster_KMeans'] = kmeans_cluster.fit_predict(scaled_data)

# DBSCAN Clustering
dbscan_cluster = DBSCAN(eps=2, min_samples=5)
airlines_data['Cluster_DBSCAN'] = dbscan_cluster.fit_predict(scaled_data)

# Visualize the clusters
sns.pairplot(airlines_data, hue='Cluster_Hierarchical', palette='Dark2', di

#==============================================================================
# Import necessary libraries
import pandas as pd
import matplotlib.pyplot as plt
from sklearn.preprocessing import StandardScaler
from sklearn.cluster import AgglomerativeClustering, KMeans, DBSCAN
from sklearn.metrics import silhouette_score
from scipy.cluster.hierarchy import dendrogram, linkage

# Load the crime dataset
crime_data = pd.read_csv('crime_data.csv')

# Display the first few rows of the dataset
print(crime_data.head())

# Extract relevant features
X = crime_data[['Murder', 'Assault', 'UrbanPop', 'Rape']]

# Standardize the features
scaler = StandardScaler()
X_scaled = scaler.fit_transform(X)

# Hierarchical Clustering
agg_clustering = AgglomerativeClustering(n_clusters=3, affinity='euclidean', linkage='ward')
agg_labels = agg_clustering.fit_predict(X_scaled)

# K-means Clustering
kmeans = KMeans(n_clusters=3, random_state=42)
kmeans_labels = kmeans.fit_predict(X_scaled)

# DBSCAN
dbscan = DBSCAN(eps=0.8, min_samples=5)
dbscan_labels = dbscan.fit_predict(X_scaled)

# Evaluate clustering using silhouette score
silhouette_agg = silhouette_score(X_scaled, agg_labels)
silhouette_kmeans = silhouette_score(X_scaled, kmeans_labels)
silhouette_dbscan = silhouette_score(X_scaled, dbscan_labels)

# Print silhouette scores
print(f'Silhouette Score (Hierarchical Clustering): {silhouette_agg:.2f}')
print(f'Silhouette Score (K-means Clustering): {silhouette_kmeans:.2f}')
print(f'Silhouette Score (DBSCAN): {silhouette_dbscan:.2f}')

# Visualize Hierarchical Clustering Dendrogram
linkage_matrix = linkage(X_scaled, method='ward')
dendrogram(linkage_matrix, truncate_mode='level', p=3)
plt.title('Hierarchical Clustering Dendrogram')
plt.xlabel('Sample Index')
plt.ylabel('Distance')
plt.show()
